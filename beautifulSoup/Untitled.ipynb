{
 "cells": [
  {
   "cell_type": "code",
   "execution_count": 2,
   "metadata": {},
   "outputs": [],
   "source": [
    "import requests\n",
    "from bs4 import BeautifulSoup"
   ]
  },
  {
   "cell_type": "code",
   "execution_count": 23,
   "metadata": {},
   "outputs": [],
   "source": [
    "r=requests.get(\"https://neetesha.herokuapp.com/\")\n",
    "c=r.content"
   ]
  },
  {
   "cell_type": "code",
   "execution_count": 25,
   "metadata": {},
   "outputs": [
    {
     "data": {
      "text/plain": [
       "b'<!DOCTYPE html>\\n<html lang=\"en\">\\n<head>\\n    <meta charset=\"UTF-8\">\\n    <meta name=\"viewport\" content=\"width=device-width, initial-scale=1.0\">\\n    <title>Flask App</title>\\n    <link rel=\"stylesheet\" href=\"/static/css/main.css\"\\n</head>\\n<body>\\n    <header>\\n        <div class=\"container\">\\n            <h1 class=\"logo\">Neetesh\\'s Web app</h1>\\n            <strong>\\n                <nav>\\n                    <ul class=\"menu\">\\n                        <li><a href=\"/\">Home</a></li>\\n                        <li><a href=\"/about\">About</a></li>\\n                    </ul>\\n                </nav>\\n            </strong>\\n        </div>\\n    </header>\\n    <div class=\"container\">\\n        \\n<div class=\"home\">\\n    <h1>This is Home Page!</h1>\\n    <p>This is a test website</p>\\n</div>\\n\\n    </div>\\n</body>\\n</html>'"
      ]
     },
     "execution_count": 25,
     "metadata": {},
     "output_type": "execute_result"
    }
   ],
   "source": [
    "c  "
   ]
  },
  {
   "cell_type": "code",
   "execution_count": 28,
   "metadata": {},
   "outputs": [],
   "source": [
    "soup=BeautifulSoup(c,\"html.parser\")"
   ]
  },
  {
   "cell_type": "code",
   "execution_count": 35,
   "metadata": {},
   "outputs": [
    {
     "data": {
      "text/plain": [
       "[<div class=\"container\">\n",
       " <h1 class=\"logo\">Neetesh's Web app</h1>\n",
       " <strong>\n",
       " <nav>\n",
       " <ul class=\"menu\">\n",
       " <li><a href=\"/\">Home</a></li>\n",
       " <li><a href=\"/about\">About</a></li>\n",
       " </ul>\n",
       " </nav>\n",
       " </strong>\n",
       " </div>,\n",
       " <div class=\"container\">\n",
       " <div class=\"home\">\n",
       " <h1>This is Home Page!</h1>\n",
       " <p>This is a test website</p>\n",
       " </div>\n",
       " </div>]"
      ]
     },
     "execution_count": 35,
     "metadata": {},
     "output_type": "execute_result"
    }
   ],
   "source": [
    "# print(soup.prettify())\n",
    "all=soup.find_all(\"div\",{\"class\":\"container\"})\n",
    "all\n"
   ]
  },
  {
   "cell_type": "code",
   "execution_count": 38,
   "metadata": {},
   "outputs": [
    {
     "data": {
      "text/plain": [
       "\"Neetesh's Web app\""
      ]
     },
     "execution_count": 38,
     "metadata": {},
     "output_type": "execute_result"
    }
   ],
   "source": [
    "all[0].find_all(\"h1\")[0].text"
   ]
  },
  {
   "cell_type": "code",
   "execution_count": 40,
   "metadata": {},
   "outputs": [
    {
     "name": "stdout",
     "output_type": "stream",
     "text": [
      "Neetesh's Web app\n",
      "This is Home Page!\n"
     ]
    }
   ],
   "source": [
    "for item in all:\n",
    "    print(item.find_all(\"h1\")[0].text)"
   ]
  }
 ],
 "metadata": {
  "kernelspec": {
   "display_name": "Python 3",
   "language": "python",
   "name": "python3"
  },
  "language_info": {
   "codemirror_mode": {
    "name": "ipython",
    "version": 3
   },
   "file_extension": ".py",
   "mimetype": "text/x-python",
   "name": "python",
   "nbconvert_exporter": "python",
   "pygments_lexer": "ipython3",
   "version": "3.7.7"
  }
 },
 "nbformat": 4,
 "nbformat_minor": 4
}
