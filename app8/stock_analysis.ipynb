{
 "cells": [
  {
   "cell_type": "code",
   "execution_count": 101,
   "metadata": {},
   "outputs": [],
   "source": [
    "from pandas_datareader import data\n",
    "import datetime\n",
    "from bokeh.plotting import figure,show, output_file\n",
    "from bokeh.embed import components\n",
    "from bokeh.resources import CDN\n",
    "\n",
    "\n",
    "start=datetime.datetime(2020,1,1)\n",
    "end=datetime.datetime(2020,3,24)\n",
    "\n",
    "df=data.DataReader(name=\"GOOG\",data_source=\"yahoo\",start=start,end=end)\n",
    "# type(df)\n",
    "# df\n",
    "\n",
    "# date_incease=df.index[df.Close > df.Open]\n",
    "# date_decrease=df.index[df.Close < df.Open]\n",
    "def inc_dec(c,o):\n",
    "    if c > o:\n",
    "        value=\"Incraese\"\n",
    "    elif c < o:\n",
    "        value=\"Decrease\"\n",
    "    else :\n",
    "        value=\"Equal\"\n",
    "    return value\n",
    "df[\"Status\"]=[inc_dec(c,o) for c, o in zip(df.Close,df.Open)]\n",
    "df[\"Middle\"]=(df.Open+df.Close)/2\n",
    "df[\"Height\"]=abs(df.Open-df.Close)\n",
    "\n",
    "p=figure(x_axis_type='datetime', width=1000, height=300  ) #responsive=True, sizing_mode=\"scale_width\"\n",
    "\n",
    "p.title.text = 'Candlestick Chart'\n",
    "p.grid.grid_line_alpha=0.5\n",
    "# type(p.title)\n",
    "hours_12=12*60*60*1000\n",
    "\n",
    "p.segment(df.index, df.High, df.index, df.Low, color=\"black\")\n",
    "p.rect(df.index[df.Status==\"Incraese\"], df.Middle[df.Status==\"Incraese\"],\n",
    "       hours_12,df.Height[df.Status==\"Incraese\"] ,fill_color=\"#CCFFFF\",\n",
    "       line_color=\"black\")\n",
    "p.rect(df.index[df.Status==\"Decrease\"], df.Middle[df.Status==\"Decrease\"],\n",
    "       hours_12,df.Height[df.Status==\"Decrease\"],fill_color=\"#FF3333\",\n",
    "       line_color=\"black\")\n",
    "script1, div1=components(p)\n",
    "\n",
    "cdn_js=CDN.js_files\n",
    "cdn_css=CDN.css_files\n",
    "# output_file('CS.html')\n",
    "# show(p)"
   ]
  },
  {
   "cell_type": "code",
   "execution_count": 105,
   "metadata": {},
   "outputs": [
    {
     "data": {
      "text/plain": [
       "'https://cdn.bokeh.org/bokeh/release/bokeh-2.0.0.min.js'"
      ]
     },
     "execution_count": 105,
     "metadata": {},
     "output_type": "execute_result"
    }
   ],
   "source": [
    "cdn_js[0]\n",
    "# print(cdn_css)\n"
   ]
  },
  {
   "cell_type": "code",
   "execution_count": 82,
   "metadata": {},
   "outputs": [],
   "source": []
  },
  {
   "cell_type": "code",
   "execution_count": null,
   "metadata": {},
   "outputs": [],
   "source": [
    "\n"
   ]
  },
  {
   "cell_type": "code",
   "execution_count": 89,
   "metadata": {},
   "outputs": [],
   "source": []
  },
  {
   "cell_type": "code",
   "execution_count": 90,
   "metadata": {},
   "outputs": [
    {
     "name": "stdout",
     "output_type": "stream",
     "text": [
      "\n",
      "<script type=\"text/javascript\">\n",
      "    (function() {\n",
      "          var fn = function() {\n",
      "            Bokeh.safely(function() {\n",
      "              (function(root) {\n",
      "                function embed_document(root) {\n",
      "                  \n",
      "                var docs_json = '{&quot;a0082034-cb9a-4ad9-a63b-706bb864b090&quot;:{&quot;roots&quot;:{&quot;references&quot;:[{&quot;attributes&quot;:{&quot;axis&quot;:{&quot;id&quot;:&quot;6475&quot;},&quot;dimension&quot;:1,&quot;grid_line_alpha&quot;:0.5,&quot;ticker&quot;:null},&quot;id&quot;:&quot;6478&quot;,&quot;type&quot;:&quot;Grid&quot;},{&quot;attributes&quot;:{},&quot;id&quot;:&quot;6465&quot;,&quot;type&quot;:&quot;DataRange1d&quot;},{&quot;attributes&quot;:{},&quot;id&quot;:&quot;6476&quot;,&quot;type&quot;:&quot;BasicTicker&quot;},{&quot;attributes&quot;:{&quot;fill_color&quot;:{&quot;value&quot;:&quot;#CCFFFF&quot;},&quot;height&quot;:{&quot;field&quot;:&quot;height&quot;,&quot;units&quot;:&quot;data&quot;},&quot;width&quot;:{&quot;units&quot;:&quot;data&quot;,&quot;value&quot;:43200000},&quot;x&quot;:{&quot;field&quot;:&quot;x&quot;},&quot;y&quot;:{&quot;field&quot;:&quot;y&quot;}},&quot;id&quot;:&quot;6499&quot;,&quot;type&quot;:&quot;Rect&quot;},{&quot;attributes&quot;:{&quot;bottom_units&quot;:&quot;screen&quot;,&quot;fill_alpha&quot;:0.5,&quot;fill_color&quot;:&quot;lightgrey&quot;,&quot;left_units&quot;:&quot;screen&quot;,&quot;level&quot;:&quot;overlay&quot;,&quot;line_alpha&quot;:1.0,&quot;line_color&quot;:&quot;black&quot;,&quot;line_dash&quot;:[4,4],&quot;line_width&quot;:2,&quot;render_mode&quot;:&quot;css&quot;,&quot;right_units&quot;:&quot;screen&quot;,&quot;top_units&quot;:&quot;screen&quot;},&quot;id&quot;:&quot;6520&quot;,&quot;type&quot;:&quot;BoxAnnotation&quot;},{&quot;attributes&quot;:{},&quot;id&quot;:&quot;6469&quot;,&quot;type&quot;:&quot;LinearScale&quot;},{&quot;attributes&quot;:{&quot;data&quot;:{&quot;height&quot;:{&quot;__ndarray__&quot;:&quot;AAAAAGBmEkAAAAAAAK7nPwAAAACQQiBAAAAAAEAzFEAAAAAAAK7vPwAAAABI4TpAAAAAAADExT8AAAAAxFVBQAAAAAAAACRAAAAAAFBhLEAAAAAAACkIQAAAAADAzA5AAAAAAIjrNkAAAAAAgBQSQAAAAABoRkZAAAAAAACuB0AAAAAALPxFQAAAAADYA01AAAAAAPAoP0AAAAAAHCVBQAAAAAAQLiZAAAAAABBXJ0AAAAAANLNPQAAAAADAzBJAAAAAAADXFEA=&quot;,&quot;dtype&quot;:&quot;float64&quot;,&quot;shape&quot;:[25]},&quot;x&quot;:{&quot;__ndarray__&quot;:&quot;AAAA0dT3dkIAAICcefh2QgAAQJkV+nZCAABAx6j8dkIAAAAt+/x2QgAAwJJN/XZCAACAj+n+dkIAAABbjv92QgAAAPLXAHdCAADAVyoBd0IAAEC6GAN3QgAAAE7+BXdCAADAs1AGd0IAAADlRwd3QgAAwEqaB3dCAACAsOwHd0IAAEAWPwh3QgAAABPbCXdCAACA3n8Kd0IAAABBbgx3QgAAwKbADHdCAADAPQoOd0IAAMDUUw93QgAAAAZLEHdCAADAa50Qd0I=&quot;,&quot;dtype&quot;:&quot;float64&quot;,&quot;shape&quot;:[25]},&quot;y&quot;:{&quot;__ndarray__&quot;:&quot;AAAAUI/OlUAAAADAzDCWQAAAALDHa5ZAAAAAYOZBl0AAAACAlDyXQAAAAJCZIJdAAAAAMNzKlkAAAACQQq6WQAAAAKBHsJZAAAAA0Ey9lkAAAABAM5mXQAAAANBMwJdAAAAAsEdil0AAAABgZj+WQAAAAGDmCpZAAAAA4KPKlUAAAADQTPCUQAAAAMCeaZVAAAAA4HralEAAAABQOEKTQAAAAPDRgZFAAAAA8KgIkUAAAABwFECRQAAAAEDhi5BAAAAAAKk0kUA=&quot;,&quot;dtype&quot;:&quot;float64&quot;,&quot;shape&quot;:[25]}},&quot;selected&quot;:{&quot;id&quot;:&quot;6519&quot;},&quot;selection_policy&quot;:{&quot;id&quot;:&quot;6518&quot;}},&quot;id&quot;:&quot;6503&quot;,&quot;type&quot;:&quot;ColumnDataSource&quot;},{&quot;attributes&quot;:{},&quot;id&quot;:&quot;6479&quot;,&quot;type&quot;:&quot;PanTool&quot;},{&quot;attributes&quot;:{},&quot;id&quot;:&quot;6514&quot;,&quot;type&quot;:&quot;UnionRenderers&quot;},{&quot;attributes&quot;:{&quot;text&quot;:&quot;Candlestick Chart&quot;},&quot;id&quot;:&quot;6492&quot;,&quot;type&quot;:&quot;Title&quot;},{&quot;attributes&quot;:{&quot;months&quot;:[0,1,2,3,4,5,6,7,8,9,10,11]},&quot;id&quot;:&quot;6528&quot;,&quot;type&quot;:&quot;MonthsTicker&quot;},{&quot;attributes&quot;:{},&quot;id&quot;:&quot;6515&quot;,&quot;type&quot;:&quot;Selection&quot;},{&quot;attributes&quot;:{},&quot;id&quot;:&quot;6482&quot;,&quot;type&quot;:&quot;SaveTool&quot;},{&quot;attributes&quot;:{&quot;source&quot;:{&quot;id&quot;:&quot;6503&quot;}},&quot;id&quot;:&quot;6507&quot;,&quot;type&quot;:&quot;CDSView&quot;},{&quot;attributes&quot;:{&quot;days&quot;:[1,4,7,10,13,16,19,22,25,28]},&quot;id&quot;:&quot;6525&quot;,&quot;type&quot;:&quot;DaysTicker&quot;},{&quot;attributes&quot;:{},&quot;id&quot;:&quot;6516&quot;,&quot;type&quot;:&quot;UnionRenderers&quot;},{&quot;attributes&quot;:{},&quot;id&quot;:&quot;6518&quot;,&quot;type&quot;:&quot;UnionRenderers&quot;},{&quot;attributes&quot;:{&quot;mantissas&quot;:[1,2,5],&quot;max_interval&quot;:500.0,&quot;num_minor_ticks&quot;:0},&quot;id&quot;:&quot;6521&quot;,&quot;type&quot;:&quot;AdaptiveTicker&quot;},{&quot;attributes&quot;:{},&quot;id&quot;:&quot;6510&quot;,&quot;type&quot;:&quot;BasicTickFormatter&quot;},{&quot;attributes&quot;:{&quot;data&quot;:{&quot;x0&quot;:{&quot;__ndarray__&quot;:&quot;AADACJT1dkIAAEDUOPZ2QgAAADqL9nZCAABAa4L3dkIAAADR1Pd2QgAAwDYn+HZCAACAnHn4dkIAAEACzPh2QgAAgDPD+XZCAABAmRX6dkIAAAD/Z/p2QgAAwGS6+nZCAACAygz7dkIAAIBhVvx2QgAAQMeo/HZCAAAALfv8dkIAAMCSTf12QgAAAMRE/nZCAADAKZf+dkIAAICP6f52QgAAQPU7/3ZCAAAAW47/dkIAAECMhQB3QgAAAPLXAHdCAADAVyoBd0IAAIC9fAF3QgAAQCPPAXdCAACAVMYCd0IAAEC6GAN3QgAAACBrA3dCAADAhb0Dd0IAAIDrDwR3QgAAgIJZBXdCAABA6KsFd0IAAABO/gV3QgAAwLNQBndCAAAA5UcHd0IAAMBKmgd3QgAAgLDsB3dCAABAFj8Id0IAAAB8kQh3QgAAQK2ICXdCAAAAE9sJd0IAAMB4LQp3QgAAgN5/CndCAABARNIKd0IAAIB1yQt3QgAAQNsbDHdCAAAAQW4Md0IAAMCmwAx3QgAAgAwTDXdCAADAPQoOd0IAAICjXA53QgAAQAmvDndCAAAAbwEPd0IAAMDUUw93QgAAAAZLEHdCAADAa50Qd0I=&quot;,&quot;dtype&quot;:&quot;float64&quot;,&quot;shape&quot;:[58]},&quot;x1&quot;:{&quot;__ndarray__&quot;:&quot;AADACJT1dkIAAEDUOPZ2QgAAADqL9nZCAABAa4L3dkIAAADR1Pd2QgAAwDYn+HZCAACAnHn4dkIAAEACzPh2QgAAgDPD+XZCAABAmRX6dkIAAAD/Z/p2QgAAwGS6+nZCAACAygz7dkIAAIBhVvx2QgAAQMeo/HZCAAAALfv8dkIAAMCSTf12QgAAAMRE/nZCAADAKZf+dkIAAICP6f52QgAAQPU7/3ZCAAAAW47/dkIAAECMhQB3QgAAAPLXAHdCAADAVyoBd0IAAIC9fAF3QgAAQCPPAXdCAACAVMYCd0IAAEC6GAN3QgAAACBrA3dCAADAhb0Dd0IAAIDrDwR3QgAAgIJZBXdCAABA6KsFd0IAAABO/gV3QgAAwLNQBndCAAAA5UcHd0IAAMBKmgd3QgAAgLDsB3dCAABAFj8Id0IAAAB8kQh3QgAAQK2ICXdCAAAAE9sJd0IAAMB4LQp3QgAAgN5/CndCAABARNIKd0IAAIB1yQt3QgAAQNsbDHdCAAAAQW4Md0IAAMCmwAx3QgAAgAwTDXdCAADAPQoOd0IAAICjXA53QgAAQAmvDndCAAAAbwEPd0IAAMDUUw93QgAAAAZLEHdCAADAa50Qd0I=&quot;,&quot;dtype&quot;:&quot;float64&quot;,&quot;shape&quot;:[58]},&quot;y0&quot;:{&quot;__ndarray__&quot;:&quot;AAAAAADolEAAAABgj2CVQAAAAAAAcpVAAAAAAADSlUAAAADA9euVQAAAAOBRDpZAAAAA4FFNlkAAAABAt2uWQAAAAIAUgpZAAAAAQDOHlkAAAACAlIWWQAAAAMD1r5ZAAAAAIC4ll0AAAABgZk+XQAAAACDbfJdAAAAAgBRel0AAAADg+l2XQAAAAKBHeJZAAAAAAADAlkAAAABguOWWQAAAAMAexZZAAAAAIIX4lkAAAAAAAEiXQAAAAAAA9pZAAAAAIFzflkAAAAAAACiXQAAAACBcN5dAAAAAAACWl0AAAAAgheaXQAAAAKDHwpdAAAAAYLjcl0AAAADA9cKXQAAAACCF7pdAAAAAgGzwl0AAAABgj+aXQAAAACDcoJdAAAAAQOFzlkAAAABgj3iWQAAAAMDMHpZAAAAA4NBulUAAAABgj/SUQAAAAOB6u5VAAAAAoJkIlkAAAAAgXLCVQAAAAOCjO5VAAAAAQOFolEAAAABACpuTQAAAAKCZBJRAAAAAANezk0AAAADgeqeSQAAAAEAKD5NAAAAAYBEBkkAAAACgcKuRQAAAAAAASpFAAAAAQOEXkkAAAADA9d+RQAAAAKBHvZBAAAAAQDOzkUA=&quot;,&quot;dtype&quot;:&quot;float64&quot;,&quot;shape&quot;:[58]},&quot;y1&quot;:{&quot;__ndarray__&quot;:&quot;AAAAAFfElEAAAABAM/aUQAAAAAAtBpVAAAAAAAAYlUAAAAAghbmVQAAAACBcu5VAAAAAgBQJlkAAAABgZimWQAAAAIAUSJZAAAAA4HpRlkAAAAAA11iWQAAAACCug5ZAAAAAQOHIlkAAAADAzPyWQAAAAGC4M5dAAAAAYGYol0AAAAAAAOWWQAAAAMDMNJZAAAAAQOFhlkAAAADA9ZqWQAAAAKCZcZZAAAAAwB5SlkAAAADA9cuWQAAAAEAzSZZAAAAAgD1alkAAAACgR6aWQAAAAGBm6ZZAAAAAoEcJl0AAAABAjYaXQAAAAKBwkJdAAAAAYGaCl0AAAAAgXI2XQAAAACBcopdAAAAAoJnFl0AAAACgR4uXQAAAAIDCIZdAAAAAYI8NlkAAAACgmZmVQAAAAAAAjJVAAAAAIK6UlEAAAAAAANyTQAAAAIBCu5RAAAAAAADQlEAAAACgcPyUQAAAAGBmZJRAAAAAQDO0k0AAAAAAAMCSQAAAAIAUC5NAAAAAoEewkkAAAABAM2WRQAAAAGCSdJFAAAAAgMLJkEAAAABACoCQQAAAAMAeNZBAAAAAoG6QkEAAAADA9aWQQAAAAMBJrI9AAAAAIK4KkUA=&quot;,&quot;dtype&quot;:&quot;float64&quot;,&quot;shape&quot;:[58]}},&quot;selected&quot;:{&quot;id&quot;:&quot;6515&quot;},&quot;selection_policy&quot;:{&quot;id&quot;:&quot;6514&quot;}},&quot;id&quot;:&quot;6493&quot;,&quot;type&quot;:&quot;ColumnDataSource&quot;},{&quot;attributes&quot;:{&quot;overlay&quot;:{&quot;id&quot;:&quot;6520&quot;}},&quot;id&quot;:&quot;6481&quot;,&quot;type&quot;:&quot;BoxZoomTool&quot;},{&quot;attributes&quot;:{&quot;formatter&quot;:{&quot;id&quot;:&quot;6510&quot;},&quot;ticker&quot;:{&quot;id&quot;:&quot;6476&quot;}},&quot;id&quot;:&quot;6475&quot;,&quot;type&quot;:&quot;LinearAxis&quot;},{&quot;attributes&quot;:{},&quot;id&quot;:&quot;6512&quot;,&quot;type&quot;:&quot;DatetimeTickFormatter&quot;},{&quot;attributes&quot;:{&quot;data_source&quot;:{&quot;id&quot;:&quot;6503&quot;},&quot;glyph&quot;:{&quot;id&quot;:&quot;6504&quot;},&quot;hover_glyph&quot;:null,&quot;muted_glyph&quot;:null,&quot;nonselection_glyph&quot;:{&quot;id&quot;:&quot;6505&quot;},&quot;selection_glyph&quot;:null,&quot;view&quot;:{&quot;id&quot;:&quot;6507&quot;}},&quot;id&quot;:&quot;6506&quot;,&quot;type&quot;:&quot;GlyphRenderer&quot;},{&quot;attributes&quot;:{},&quot;id&quot;:&quot;6519&quot;,&quot;type&quot;:&quot;Selection&quot;},{&quot;attributes&quot;:{&quot;data&quot;:{&quot;height&quot;:{&quot;__ndarray__&quot;:&quot;AAAAAOCjG0AAAAAA6NE5QAAAAACgmSlAAAAAAOAaRkAAAAAA4HooQAAAAAAAXAFAAAAAAMDMCEAAAAAA4PohQAAAAABAChFAAAAAAOB6MUAAAAAAwB4VQAAAAABAMwdAAAAAAMAeI0AAAAAAkMIvQAAAAACg8DdAAAAAAGjmOUAAAAAAINwnQAAAAAAYLkFAAAAAAABSDkAAAAAAgIX/PwAAAABgjxRAAAAAACCuEkAAAAAAgOv5PwAAAAA86k5AAAAAAADAQkAAAAAAQEo7QAAAAACYWTVAAAAAACCFJEAAAAAA2GM0QAAAAABwXURAAAAAAKiwOkAAAAAAICVEQAAAAABwPTZA&quot;,&quot;dtype&quot;:&quot;float64&quot;,&quot;shape&quot;:[33]},&quot;x&quot;:{&quot;__ndarray__&quot;:&quot;AADACJT1dkIAAEDUOPZ2QgAAADqL9nZCAABAa4L3dkIAAMA2J/h2QgAAQALM+HZCAACAM8P5dkIAAAD/Z/p2QgAAwGS6+nZCAACAygz7dkIAAIBhVvx2QgAAAMRE/nZCAADAKZf+dkIAAED1O/92QgAAQIyFAHdCAACAvXwBd0IAAEAjzwF3QgAAgFTGAndCAAAAIGsDd0IAAMCFvQN3QgAAgOsPBHdCAACAglkFd0IAAEDoqwV3QgAAAHyRCHdCAABArYgJd0IAAMB4LQp3QgAAQETSCndCAACAdckLd0IAAEDbGwx3QgAAgAwTDXdCAACAo1wOd0IAAEAJrw53QgAAAG8BD3dC&quot;,&quot;dtype&quot;:&quot;float64&quot;,&quot;shape&quot;:[33]},&quot;y&quot;:{&quot;__ndarray__&quot;:&quot;AAAAkELWlEAAAAAQ1ymVQAAAAEAKKZVAAAAAgGtwlUAAAADAzNiVQAAAAICUUpZAAAAAULh2lkAAAADg0WqWQAAAAKBHppZAAAAAoJn+lkAAAABACieXQAAAANDMYZZAAAAAwB6flkAAAACQmZ+WQAAAAEDhB5dAAAAAsB7dlkAAAABgDwWXQAAAAAAATpdAAAAAAICxl0AAAAAws6aXQAAAABCuuJdAAAAAEFe1l0AAAAAQhdeXQAAAAPCocZRAAAAAoHBplUAAAAAAgHOVQAAAALDwHpRAAAAAYLjpkkAAAACwx9iTQAAAAMB1vZJAAAAA8NFJkUAAAADAntKQQAAAACCuQJFA&quot;,&quot;dtype&quot;:&quot;float64&quot;,&quot;shape&quot;:[33]}},&quot;selected&quot;:{&quot;id&quot;:&quot;6517&quot;},&quot;selection_policy&quot;:{&quot;id&quot;:&quot;6516&quot;}},&quot;id&quot;:&quot;6498&quot;,&quot;type&quot;:&quot;ColumnDataSource&quot;},{&quot;attributes&quot;:{},&quot;id&quot;:&quot;6480&quot;,&quot;type&quot;:&quot;WheelZoomTool&quot;},{&quot;attributes&quot;:{&quot;base&quot;:60,&quot;mantissas&quot;:[1,2,5,10,15,20,30],&quot;max_interval&quot;:1800000.0,&quot;min_interval&quot;:1000.0,&quot;num_minor_ticks&quot;:0},&quot;id&quot;:&quot;6522&quot;,&quot;type&quot;:&quot;AdaptiveTicker&quot;},{&quot;attributes&quot;:{&quot;line_alpha&quot;:{&quot;value&quot;:0.1},&quot;x0&quot;:{&quot;field&quot;:&quot;x0&quot;},&quot;x1&quot;:{&quot;field&quot;:&quot;x1&quot;},&quot;y0&quot;:{&quot;field&quot;:&quot;y0&quot;},&quot;y1&quot;:{&quot;field&quot;:&quot;y1&quot;}},&quot;id&quot;:&quot;6495&quot;,&quot;type&quot;:&quot;Segment&quot;},{&quot;attributes&quot;:{&quot;days&quot;:[1,2,3,4,5,6,7,8,9,10,11,12,13,14,15,16,17,18,19,20,21,22,23,24,25,26,27,28,29,30,31]},&quot;id&quot;:&quot;6524&quot;,&quot;type&quot;:&quot;DaysTicker&quot;},{&quot;attributes&quot;:{&quot;source&quot;:{&quot;id&quot;:&quot;6498&quot;}},&quot;id&quot;:&quot;6502&quot;,&quot;type&quot;:&quot;CDSView&quot;},{&quot;attributes&quot;:{},&quot;id&quot;:&quot;6517&quot;,&quot;type&quot;:&quot;Selection&quot;},{&quot;attributes&quot;:{&quot;data_source&quot;:{&quot;id&quot;:&quot;6498&quot;},&quot;glyph&quot;:{&quot;id&quot;:&quot;6499&quot;},&quot;hover_glyph&quot;:null,&quot;muted_glyph&quot;:null,&quot;nonselection_glyph&quot;:{&quot;id&quot;:&quot;6500&quot;},&quot;selection_glyph&quot;:null,&quot;view&quot;:{&quot;id&quot;:&quot;6502&quot;}},&quot;id&quot;:&quot;6501&quot;,&quot;type&quot;:&quot;GlyphRenderer&quot;},{&quot;attributes&quot;:{&quot;x0&quot;:{&quot;field&quot;:&quot;x0&quot;},&quot;x1&quot;:{&quot;field&quot;:&quot;x1&quot;},&quot;y0&quot;:{&quot;field&quot;:&quot;y0&quot;},&quot;y1&quot;:{&quot;field&quot;:&quot;y1&quot;}},&quot;id&quot;:&quot;6494&quot;,&quot;type&quot;:&quot;Segment&quot;},{&quot;attributes&quot;:{},&quot;id&quot;:&quot;6532&quot;,&quot;type&quot;:&quot;YearsTicker&quot;},{&quot;attributes&quot;:{},&quot;id&quot;:&quot;6484&quot;,&quot;type&quot;:&quot;HelpTool&quot;},{&quot;attributes&quot;:{&quot;days&quot;:[1,15]},&quot;id&quot;:&quot;6527&quot;,&quot;type&quot;:&quot;DaysTicker&quot;},{&quot;attributes&quot;:{&quot;months&quot;:[0,2,4,6,8,10]},&quot;id&quot;:&quot;6529&quot;,&quot;type&quot;:&quot;MonthsTicker&quot;},{&quot;attributes&quot;:{&quot;data_source&quot;:{&quot;id&quot;:&quot;6493&quot;},&quot;glyph&quot;:{&quot;id&quot;:&quot;6494&quot;},&quot;hover_glyph&quot;:null,&quot;muted_glyph&quot;:null,&quot;nonselection_glyph&quot;:{&quot;id&quot;:&quot;6495&quot;},&quot;selection_glyph&quot;:null,&quot;view&quot;:{&quot;id&quot;:&quot;6497&quot;}},&quot;id&quot;:&quot;6496&quot;,&quot;type&quot;:&quot;GlyphRenderer&quot;},{&quot;attributes&quot;:{&quot;num_minor_ticks&quot;:5,&quot;tickers&quot;:[{&quot;id&quot;:&quot;6521&quot;},{&quot;id&quot;:&quot;6522&quot;},{&quot;id&quot;:&quot;6523&quot;},{&quot;id&quot;:&quot;6524&quot;},{&quot;id&quot;:&quot;6525&quot;},{&quot;id&quot;:&quot;6526&quot;},{&quot;id&quot;:&quot;6527&quot;},{&quot;id&quot;:&quot;6528&quot;},{&quot;id&quot;:&quot;6529&quot;},{&quot;id&quot;:&quot;6530&quot;},{&quot;id&quot;:&quot;6531&quot;},{&quot;id&quot;:&quot;6532&quot;}]},&quot;id&quot;:&quot;6472&quot;,&quot;type&quot;:&quot;DatetimeTicker&quot;},{&quot;attributes&quot;:{&quot;axis&quot;:{&quot;id&quot;:&quot;6471&quot;},&quot;grid_line_alpha&quot;:0.5,&quot;ticker&quot;:null},&quot;id&quot;:&quot;6474&quot;,&quot;type&quot;:&quot;Grid&quot;},{&quot;attributes&quot;:{&quot;source&quot;:{&quot;id&quot;:&quot;6493&quot;}},&quot;id&quot;:&quot;6497&quot;,&quot;type&quot;:&quot;CDSView&quot;},{&quot;attributes&quot;:{},&quot;id&quot;:&quot;6483&quot;,&quot;type&quot;:&quot;ResetTool&quot;},{&quot;attributes&quot;:{&quot;days&quot;:[1,8,15,22]},&quot;id&quot;:&quot;6526&quot;,&quot;type&quot;:&quot;DaysTicker&quot;},{&quot;attributes&quot;:{&quot;formatter&quot;:{&quot;id&quot;:&quot;6512&quot;},&quot;ticker&quot;:{&quot;id&quot;:&quot;6472&quot;}},&quot;id&quot;:&quot;6471&quot;,&quot;type&quot;:&quot;DatetimeAxis&quot;},{&quot;attributes&quot;:{},&quot;id&quot;:&quot;6463&quot;,&quot;type&quot;:&quot;DataRange1d&quot;},{&quot;attributes&quot;:{&quot;fill_color&quot;:{&quot;value&quot;:&quot;#FF3333&quot;},&quot;height&quot;:{&quot;field&quot;:&quot;height&quot;,&quot;units&quot;:&quot;data&quot;},&quot;width&quot;:{&quot;units&quot;:&quot;data&quot;,&quot;value&quot;:43200000},&quot;x&quot;:{&quot;field&quot;:&quot;x&quot;},&quot;y&quot;:{&quot;field&quot;:&quot;y&quot;}},&quot;id&quot;:&quot;6504&quot;,&quot;type&quot;:&quot;Rect&quot;},{&quot;attributes&quot;:{&quot;base&quot;:24,&quot;mantissas&quot;:[1,2,4,6,8,12],&quot;max_interval&quot;:43200000.0,&quot;min_interval&quot;:3600000.0,&quot;num_minor_ticks&quot;:0},&quot;id&quot;:&quot;6523&quot;,&quot;type&quot;:&quot;AdaptiveTicker&quot;},{&quot;attributes&quot;:{&quot;active_drag&quot;:&quot;auto&quot;,&quot;active_inspect&quot;:&quot;auto&quot;,&quot;active_multi&quot;:null,&quot;active_scroll&quot;:&quot;auto&quot;,&quot;active_tap&quot;:&quot;auto&quot;,&quot;tools&quot;:[{&quot;id&quot;:&quot;6479&quot;},{&quot;id&quot;:&quot;6480&quot;},{&quot;id&quot;:&quot;6481&quot;},{&quot;id&quot;:&quot;6482&quot;},{&quot;id&quot;:&quot;6483&quot;},{&quot;id&quot;:&quot;6484&quot;}]},&quot;id&quot;:&quot;6485&quot;,&quot;type&quot;:&quot;Toolbar&quot;},{&quot;attributes&quot;:{},&quot;id&quot;:&quot;6467&quot;,&quot;type&quot;:&quot;LinearScale&quot;},{&quot;attributes&quot;:{&quot;below&quot;:[{&quot;id&quot;:&quot;6471&quot;}],&quot;center&quot;:[{&quot;id&quot;:&quot;6474&quot;},{&quot;id&quot;:&quot;6478&quot;}],&quot;left&quot;:[{&quot;id&quot;:&quot;6475&quot;}],&quot;plot_height&quot;:300,&quot;plot_width&quot;:1000,&quot;renderers&quot;:[{&quot;id&quot;:&quot;6496&quot;},{&quot;id&quot;:&quot;6501&quot;},{&quot;id&quot;:&quot;6506&quot;}],&quot;title&quot;:{&quot;id&quot;:&quot;6492&quot;},&quot;toolbar&quot;:{&quot;id&quot;:&quot;6485&quot;},&quot;x_range&quot;:{&quot;id&quot;:&quot;6463&quot;},&quot;x_scale&quot;:{&quot;id&quot;:&quot;6467&quot;},&quot;y_range&quot;:{&quot;id&quot;:&quot;6465&quot;},&quot;y_scale&quot;:{&quot;id&quot;:&quot;6469&quot;}},&quot;id&quot;:&quot;6462&quot;,&quot;subtype&quot;:&quot;Figure&quot;,&quot;type&quot;:&quot;Plot&quot;},{&quot;attributes&quot;:{&quot;fill_alpha&quot;:{&quot;value&quot;:0.1},&quot;fill_color&quot;:{&quot;value&quot;:&quot;#CCFFFF&quot;},&quot;height&quot;:{&quot;field&quot;:&quot;height&quot;,&quot;units&quot;:&quot;data&quot;},&quot;line_alpha&quot;:{&quot;value&quot;:0.1},&quot;width&quot;:{&quot;units&quot;:&quot;data&quot;,&quot;value&quot;:43200000},&quot;x&quot;:{&quot;field&quot;:&quot;x&quot;},&quot;y&quot;:{&quot;field&quot;:&quot;y&quot;}},&quot;id&quot;:&quot;6500&quot;,&quot;type&quot;:&quot;Rect&quot;},{&quot;attributes&quot;:{&quot;months&quot;:[0,4,8]},&quot;id&quot;:&quot;6530&quot;,&quot;type&quot;:&quot;MonthsTicker&quot;},{&quot;attributes&quot;:{&quot;months&quot;:[0,6]},&quot;id&quot;:&quot;6531&quot;,&quot;type&quot;:&quot;MonthsTicker&quot;},{&quot;attributes&quot;:{&quot;fill_alpha&quot;:{&quot;value&quot;:0.1},&quot;fill_color&quot;:{&quot;value&quot;:&quot;#FF3333&quot;},&quot;height&quot;:{&quot;field&quot;:&quot;height&quot;,&quot;units&quot;:&quot;data&quot;},&quot;line_alpha&quot;:{&quot;value&quot;:0.1},&quot;width&quot;:{&quot;units&quot;:&quot;data&quot;,&quot;value&quot;:43200000},&quot;x&quot;:{&quot;field&quot;:&quot;x&quot;},&quot;y&quot;:{&quot;field&quot;:&quot;y&quot;}},&quot;id&quot;:&quot;6505&quot;,&quot;type&quot;:&quot;Rect&quot;}],&quot;root_ids&quot;:[&quot;6462&quot;]},&quot;title&quot;:&quot;Bokeh Application&quot;,&quot;version&quot;:&quot;2.0.0&quot;}}';\n",
      "                var render_items = [{\"docid\":\"a0082034-cb9a-4ad9-a63b-706bb864b090\",\"root_ids\":[\"6462\"],\"roots\":{\"6462\":\"42c8eb7d-7ce1-42a1-ad63-cf1defdf8c51\"}}];\n",
      "                root.Bokeh.embed.embed_items(docs_json, render_items);\n",
      "              \n",
      "                }\n",
      "                if (root.Bokeh !== undefined) {\n",
      "                  embed_document(root);\n",
      "                } else {\n",
      "                  var attempts = 0;\n",
      "                  var timer = setInterval(function(root) {\n",
      "                    if (root.Bokeh !== undefined) {\n",
      "                      clearInterval(timer);\n",
      "                      embed_document(root);\n",
      "                    } else {\n",
      "                      attempts++;\n",
      "                      if (attempts > 100) {\n",
      "                        clearInterval(timer);\n",
      "                        console.log(\"Bokeh: ERROR: Unable to run BokehJS code because BokehJS library is missing\");\n",
      "                      }\n",
      "                    }\n",
      "                  }, 10, root)\n",
      "                }\n",
      "              })(window);\n",
      "            });\n",
      "          };\n",
      "          if (document.readyState != \"loading\") fn();\n",
      "          else document.addEventListener(\"DOMContentLoaded\", fn);\n",
      "        })();\n",
      "</script>\n"
     ]
    }
   ],
   "source": []
  }
 ],
 "metadata": {
  "kernelspec": {
   "display_name": "Python 3",
   "language": "python",
   "name": "python3"
  },
  "language_info": {
   "codemirror_mode": {
    "name": "ipython",
    "version": 3
   },
   "file_extension": ".py",
   "mimetype": "text/x-python",
   "name": "python",
   "nbconvert_exporter": "python",
   "pygments_lexer": "ipython3",
   "version": "3.7.7"
  }
 },
 "nbformat": 4,
 "nbformat_minor": 4
}
